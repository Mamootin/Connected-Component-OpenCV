{
 "cells": [
  {
   "cell_type": "raw",
   "id": "66930a123ed6743",
   "metadata": {
    "vscode": {
     "languageId": "raw"
    }
   },
   "source": [
    "Connected Component\n",
    "\n",
    "Load neccessery libraries"
   ]
  },
  {
   "cell_type": "code",
   "id": "fbc121e30a2defb3",
   "metadata": {
    "ExecuteTime": {
     "end_time": "2025-08-08T12:14:33.785712Z",
     "start_time": "2025-08-08T12:14:33.778252Z"
    }
   },
   "source": [
    "import matplotlib.pyplot as plt\n",
    "import numpy as np\n",
    "import cv2"
   ],
   "outputs": [],
   "execution_count": 16
  },
  {
   "cell_type": "markdown",
   "id": "16c264606971a331",
   "metadata": {},
   "source": [
    "import images in default and gray scale mode"
   ]
  },
  {
   "cell_type": "code",
   "id": "aae29ff0851dc015",
   "metadata": {
    "ExecuteTime": {
     "end_time": "2025-08-08T12:25:08.611249Z",
     "start_time": "2025-08-08T12:25:06.074025Z"
    }
   },
   "source": [
    "\n",
    "img = cv2.imread(\"HandWrite.jpg\")\n",
    "img = cv2.rotate(img, cv2.ROTATE_90_COUNTERCLOCKWISE)\n",
    "img = img[500:1700, 700:2600]\n",
    "\n",
    "gray = cv2.imread('HandWrite.jpg', cv2.IMREAD_GRAYSCALE)\n",
    "gray = cv2.rotate(gray, cv2.ROTATE_90_COUNTERCLOCKWISE)\n",
    "gray = gray[500:1700, 700:2600]\n",
    "#gray = cv2.cvtColor(gray, cv2.COLOR_BGR2RGB)\n",
    "\n",
    "plt.imshow(img)\n",
    "plt.show()"
   ],
   "outputs": [],
   "execution_count": 38
  },
  {
   "cell_type": "code",
   "id": "f7eb9a4cc1f67eb2",
   "metadata": {
    "ExecuteTime": {
     "end_time": "2025-08-08T12:25:11.927768Z",
     "start_time": "2025-08-08T12:25:11.920736Z"
    }
   },
   "source": "gray",
   "outputs": [
    {
     "data": {
      "text/plain": [
       "array([[141, 145, 153, ..., 137, 138, 140],\n",
       "       [149, 139, 150, ..., 137, 145, 145],\n",
       "       [149, 141, 144, ..., 145, 150, 146],\n",
       "       ...,\n",
       "       [137, 142, 133, ..., 138, 136, 134],\n",
       "       [138, 138, 131, ..., 137, 134, 135],\n",
       "       [138, 134, 136, ..., 137, 136, 136]], dtype=uint8)"
      ]
     },
     "execution_count": 39,
     "metadata": {},
     "output_type": "execute_result"
    }
   ],
   "execution_count": 39
  },
  {
   "cell_type": "markdown",
   "id": "b0199d9ed44f3844",
   "metadata": {},
   "source": [
    "Convert image data to binary"
   ]
  },
  {
   "cell_type": "code",
   "id": "7fe456b3",
   "metadata": {
    "ExecuteTime": {
     "end_time": "2025-08-08T12:25:16.219430Z",
     "start_time": "2025-08-08T12:25:14.186945Z"
    }
   },
   "source": [
    "_, graycv = cv2.threshold(gray, 127.5, 255, cv2.THRESH_BINARY_INV)\n",
    "\n",
    "plt.imshow(graycv, cmap=\"gray\")\n",
    "plt.show()"
   ],
   "outputs": [],
   "execution_count": 40
  },
  {
   "cell_type": "code",
   "id": "2294d4877e69be8b",
   "metadata": {
    "ExecuteTime": {
     "end_time": "2025-08-08T12:25:22.988094Z",
     "start_time": "2025-08-08T12:25:20.632695Z"
    }
   },
   "source": [
    "# numpy data handling\n",
    "gray[gray<127.5]=0\n",
    "gray[gray>127.5]=255\n",
    "plt.imshow(255-gray, cmap=\"gray\")\n",
    "plt.show()"
   ],
   "outputs": [],
   "execution_count": 41
  },
  {
   "metadata": {},
   "cell_type": "markdown",
   "source": "Crop numbers with help of ConnectedComponents function",
   "id": "9f52349e9f107dda"
  },
  {
   "cell_type": "code",
   "id": "49b3c94c",
   "metadata": {
    "ExecuteTime": {
     "end_time": "2025-08-08T12:33:38.030331Z",
     "start_time": "2025-08-08T12:33:34.149905Z"
    }
   },
   "source": [
    "num_labels, labels, stats, centroids = cv2.connectedComponentsWithStats(gray, connectivity=8)\n",
    "\n",
    "for i in range(1, num_labels):\n",
    "    x, y, w, h = stats[i][:4]\n",
    "    if w>100 and h>100:\n",
    "        image = gray[y:y+h, x:x+w]\n",
    "        plt.imshow(image)\n",
    "        plt.show()"
   ],
   "outputs": [],
   "execution_count": 48
  },
  {
   "metadata": {
    "ExecuteTime": {
     "end_time": "2025-08-08T11:29:14.403458Z",
     "start_time": "2025-08-08T11:29:14.159683Z"
    }
   },
   "cell_type": "code",
   "source": [
    "for i in range(1, num_labels):\n",
    "    x, y, w, h = stats[i][:4]\n",
    "    if w>50 and h>50:\n",
    "        plt.imshow(cropped[y:y+h, x:x+w], cmap=\"gray\")\n",
    "        plt.Figure()"
   ],
   "id": "2bfa2f0b2e9a92cd",
   "outputs": [
    {
     "data": {
      "text/plain": [
       "<Figure size 640x480 with 1 Axes>"
      ],
      "image/png": "[encoded data removed]"
     },
     "metadata": {},
     "output_type": "display_data"
    }
   ],
   "execution_count": 24
  }
 ],
 "metadata": {
  "kernelspec": {
   "display_name": "Python 3 (ipykernel)",
   "language": "python",
   "name": "python3"
  },
  "language_info": {
   "codemirror_mode": {
    "name": "ipython",
    "version": 3
   },
   "file_extension": ".py",
   "mimetype": "text/x-python",
   "name": "python",
   "nbconvert_exporter": "python",
   "pygments_lexer": "ipython3",
   "version": "3.12.7"
  }
 },
 "nbformat": 4,
 "nbformat_minor": 5
}
